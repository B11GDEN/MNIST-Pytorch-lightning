{
 "cells": [
  {
   "cell_type": "code",
   "execution_count": null,
   "metadata": {},
   "outputs": [],
   "source": [
    "import torch\n",
    "import torch.nn as nn\n",
    "from torch.nn import functional as F\n",
    "from torch.utils.data import TensorDataset, DataLoader\n",
    "from torch.optim import SGD, Adam\n",
    "\n",
    "import torchvision.models as models\n",
    "\n",
    "from sklearn.model_selection import train_test_split\n",
    "\n",
    "import pytorch_lightning as pl\n",
    "from pytorch_lightning import Trainer\n",
    "\n",
    "import pandas as pd\n",
    "import numpy as np\n",
    "\n",
    "import matplotlib.pyplot as plt\n",
    "%matplotlib inline"
   ]
  },
  {
   "cell_type": "code",
   "execution_count": null,
   "metadata": {},
   "outputs": [],
   "source": [
    "test = pd.read_csv(\"test.csv\")\n",
    "train = pd.read_csv(\"train.csv\")"
   ]
  },
  {
   "cell_type": "code",
   "execution_count": null,
   "metadata": {},
   "outputs": [],
   "source": [
    "y = train.label.values\n",
    "X = train.loc[:,train.columns != \"label\"].values\n",
    "\n",
    "X = X.reshape(-1, 1, 28, 28)\n",
    "\n",
    "X_train, X_val, y_train, y_val = train_test_split(X, y, test_size = 0.1, random_state = 42) \n",
    "\n",
    "X_train = torch.tensor(X_train, dtype = torch.float)\n",
    "X_val   = torch.tensor(X_val,   dtype = torch.float)\n",
    "y_train = torch.tensor(y_train, dtype = torch.long)\n",
    "y_val   = torch.tensor(y_val,   dtype = torch.long)\n",
    "\n",
    "train_dataset = TensorDataset(X_train, y_train)\n",
    "val_dataset   = TensorDataset(X_val, y_val)"
   ]
  },
  {
   "cell_type": "code",
   "execution_count": null,
   "metadata": {},
   "outputs": [],
   "source": [
    "X_test = test.values\n",
    "X_test = X_test.reshape(-1, 1, 28, 28)\n",
    "X_test = torch.tensor(X_test, dtype = torch.float)\n",
    "\n",
    "test_dataset = TensorDataset(X_test)"
   ]
  },
  {
   "cell_type": "code",
   "execution_count": null,
   "metadata": {},
   "outputs": [],
   "source": [
    "epoch = 10\n",
    "batch_size = 20\n",
    "learning_rate = 0.0001\n",
    "\n",
    "class MnistModel(pl.LightningModule):\n",
    "\n",
    "    def __init__(self):\n",
    "        super(MnistModel, self).__init__()\n",
    "        self.layer1 = nn.Sequential( nn.Conv2d(1, 8, kernel_size=5, stride=1, padding=2), \n",
    "            nn.ReLU(), nn.MaxPool2d(kernel_size=2, stride=2)) \n",
    "        self.layer2 = nn.Sequential( nn.Conv2d(8, 16, kernel_size=5, stride=1, padding=2), \n",
    "            nn.ReLU(), nn.MaxPool2d(kernel_size=2, stride=2)) \n",
    "        self.drop_out = nn.Dropout() \n",
    "        self.fc1 = nn.Linear(784, 10) \n",
    "        self.fc2 = nn.Linear(10, 10)\n",
    "\n",
    "    def forward(self, X):\n",
    "        X = self.layer1(X)\n",
    "        X = self.layer2(X)\n",
    "        X = X.reshape(X.size(0), -1)\n",
    "        X = torch.relu(self.fc1(X))\n",
    "        X = self.fc2(X)\n",
    "        return X\n",
    "\n",
    "    def training_step(self, batch, batch_nb):\n",
    "        X, y    = batch\n",
    "        predict = self.forward(X)\n",
    "        loss    = F.cross_entropy(predict, y)\n",
    "        acc     = torch.sum(torch.argmax(predict, dim = 1) == y).float()\n",
    "        return {'loss'         : loss,\n",
    "                'progress_bar' : {'train_loss': loss, 'train_acc' : acc},\n",
    "                'log'          : {'train_loss': loss, 'train_acc' : acc}\n",
    "        }\n",
    "    \n",
    "    def validation_step(self, batch, batch_nb):\n",
    "        X, y = batch\n",
    "        predict = self.forward(X)\n",
    "        acc     = torch.sum(torch.argmax(predict, dim = 1) == y).float()\n",
    "        return {'val_loss': F.cross_entropy(predict, y),\n",
    "                'val_acc' : acc\n",
    "        }\n",
    "\n",
    "    def validation_end(self, outputs):\n",
    "        avg_loss = torch.stack([x['val_loss'] for x in outputs]).mean()\n",
    "        avg_acc  = torch.stack([x['val_acc']  for x in outputs]).mean()\n",
    "        return {'progress_bar' : {'val_loss' : avg_loss, 'val_acc' : avg_acc},\n",
    "                'log'          : {'val_loss' : avg_loss, 'val_acc' : avg_acc}\n",
    "        }\n",
    "    \n",
    "    def test_step(self, batch, batch_nb):\n",
    "        X = batch\n",
    "        predict = torch.argmax(self.forward(*X), dim = 1)\n",
    "        return {'predict': predict}\n",
    "    \n",
    "    def test_end(self, outputs):\n",
    "        predict = []\n",
    "        for x in outputs: predict.extend(x['predict'].numpy())\n",
    "        results = pd.Series(predict,name=\"Label\")\n",
    "        submission = pd.concat([pd.Series(range(1,28001),name = \"ImageId\"),results],axis = 1)\n",
    "        submission.to_csv(\"submission.csv\",index=False)\n",
    "        return {}\n",
    "\n",
    "    def configure_optimizers(self):\n",
    "        return torch.optim.Adam(self.resnet.parameters(), lr = learning_rate)\n",
    "\n",
    "    @pl.data_loader\n",
    "    def train_dataloader(self):\n",
    "        return DataLoader(train_dataset, batch_size = 40, shuffle = True)\n",
    "    \n",
    "    @pl.data_loader\n",
    "    def val_dataloader(self):\n",
    "        return DataLoader(val_dataset, batch_size = 40, shuffle = False)\n",
    "    \n",
    "    @pl.data_loader\n",
    "    def test_dataloader(self):\n",
    "        return DataLoader(test_dataset, batch_size = 40, shuffle = False)\n"
   ]
  },
  {
   "cell_type": "code",
   "execution_count": null,
   "metadata": {},
   "outputs": [],
   "source": [
    "model = MnistModel()\n",
    "trainer = Trainer(early_stop_callback=False, max_nb_epochs=25)\n",
    "trainer.fit(model)"
   ]
  },
  {
   "cell_type": "code",
   "execution_count": null,
   "metadata": {},
   "outputs": [],
   "source": [
    "trainer.test(model)"
   ]
  }
 ],
 "metadata": {
  "kernelspec": {
   "display_name": "Python 3",
   "language": "python",
   "name": "python3"
  },
  "language_info": {
   "codemirror_mode": {
    "name": "ipython",
    "version": 3
   },
   "file_extension": ".py",
   "mimetype": "text/x-python",
   "name": "python",
   "nbconvert_exporter": "python",
   "pygments_lexer": "ipython3",
   "version": "3.7.3"
  }
 },
 "nbformat": 4,
 "nbformat_minor": 2
}
